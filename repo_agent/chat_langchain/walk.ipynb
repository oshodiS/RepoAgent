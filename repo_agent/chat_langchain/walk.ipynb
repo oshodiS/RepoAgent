{
 "cells": [
  {
   "cell_type": "code",
   "execution_count": 2,
   "metadata": {},
   "outputs": [],
   "source": [
    "import re, os"
   ]
  },
  {
   "cell_type": "code",
   "execution_count": 3,
   "metadata": {},
   "outputs": [],
   "source": [
    "pattern = re.compile(r'^(read[_]?me)([_]?(md|txt))$', re.IGNORECASE)\n",
    "root_path = os.path.normpath(os.path.abspath(\".\"))\n",
    "  "
   ]
  },
  {
   "cell_type": "code",
   "execution_count": 8,
   "metadata": {},
   "outputs": [
    {
     "name": "stdout",
     "output_type": "stream",
     "text": [
      "chat.py\n",
      "classification_model2.py\n",
      "classification_model21.py\n",
      "conversational_rag.ipynb\n",
      "general_model.py\n",
      "model.py\n",
      "multiple_doc_single_ans.ipynb\n",
      "README.md\n",
      "specific_model.py\n",
      "utilities.py\n",
      "walk.ipynb\n",
      "classification_model.ipynb\n",
      "conversational_rag.ipynb\n",
      "function_call.ipynb\n",
      "multiple_doc_single_ans.ipynb\n",
      "parallel_summary.ipynb\n",
      "selfquery.ipynb\n",
      "chat.cpython-311.pyc\n",
      "classification_model.cpython-311.pyc\n",
      "classification_model2.cpython-311.pyc\n",
      "general_model.cpython-311.pyc\n",
      "model.cpython-311.pyc\n",
      "specific_model.cpython-311.pyc\n",
      "utilities.cpython-311.pyc\n",
      "None\n"
     ]
    }
   ],
   "source": [
    "pattern = re.compile(r'^(read[_]?me)([_]?(md|txt))$', re.IGNORECASE)\n",
    "root_path = os.path.normpath(os.path.abspath(\"C:\\\\Users\\\\reply\\\\RepoAgent\"))\n",
    "for root, dirs, files in os.walk(root_path):\n",
    "        for file in files:\n",
    "            print(file)\n",
    "            if pattern.match(file):\n",
    "                 print(os.path.join(root, file))\n",
    "print(None)"
   ]
  }
 ],
 "metadata": {
  "kernelspec": {
   "display_name": "Python 3",
   "language": "python",
   "name": "python3"
  },
  "language_info": {
   "codemirror_mode": {
    "name": "ipython",
    "version": 3
   },
   "file_extension": ".py",
   "mimetype": "text/x-python",
   "name": "python",
   "nbconvert_exporter": "python",
   "pygments_lexer": "ipython3",
   "version": "3.11.9"
  }
 },
 "nbformat": 4,
 "nbformat_minor": 2
}
